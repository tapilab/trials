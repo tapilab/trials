{
 "metadata": {
  "name": "",
  "signature": "sha256:87080b46bc004afcba6f81173408ce6f8875782970c6203160cbc27e42e2c53c"
 },
 "nbformat": 3,
 "nbformat_minor": 0,
 "worksheets": [
  {
   "cells": [
    {
     "cell_type": "code",
     "collapsed": false,
     "input": [
      "from colorama import init, Fore\n",
      "import re\n",
      "\n",
      "init() # only necessary on Windows\n",
      "s = \"This is a sentence where I talk about interesting stuff like sencha tea.\"\n",
      "print re.sub(r'(sen\\w+)', Fore.RED + r'\\1' + Fore.RESET, s)"
     ],
     "language": "python",
     "metadata": {},
     "outputs": [
      {
       "ename": "AttributeError",
       "evalue": "'AnsiCodes' object has no attribute 'RESE'",
       "output_type": "pyerr",
       "traceback": [
        "\u001b[0;31m---------------------------------------------------------------------------\u001b[0m\n\u001b[0;31mAttributeError\u001b[0m                            Traceback (most recent call last)",
        "\u001b[0;32m<ipython-input-7-994b32868d07>\u001b[0m in \u001b[0;36m<module>\u001b[0;34m()\u001b[0m\n\u001b[1;32m      4\u001b[0m \u001b[0minit\u001b[0m\u001b[0;34m(\u001b[0m\u001b[0;34m)\u001b[0m \u001b[0;31m# only necessary on Windows\u001b[0m\u001b[0;34m\u001b[0m\u001b[0m\n\u001b[1;32m      5\u001b[0m \u001b[0ms\u001b[0m \u001b[0;34m=\u001b[0m \u001b[0;34m\"This is a sentence where I talk about interesting stuff like sencha tea.\"\u001b[0m\u001b[0;34m\u001b[0m\u001b[0m\n\u001b[0;32m----> 6\u001b[0;31m \u001b[0;32mprint\u001b[0m \u001b[0mre\u001b[0m\u001b[0;34m.\u001b[0m\u001b[0msub\u001b[0m\u001b[0;34m(\u001b[0m\u001b[0;34mr'(sen\\w+)'\u001b[0m\u001b[0;34m,\u001b[0m  \u001b[0;34mr'\\1'\u001b[0m \u001b[0;34m+\u001b[0m \u001b[0mFore\u001b[0m\u001b[0;34m.\u001b[0m\u001b[0mRESE\u001b[0m\u001b[0;34m,\u001b[0m \u001b[0ms\u001b[0m\u001b[0;34m)\u001b[0m\u001b[0;34m\u001b[0m\u001b[0m\n\u001b[0m",
        "\u001b[0;31mAttributeError\u001b[0m: 'AnsiCodes' object has no attribute 'RESE'"
       ]
      }
     ],
     "prompt_number": 7
    },
    {
     "cell_type": "code",
     "collapsed": false,
     "input": [
      "import difflib\n",
      "d = difflib.Differ()\n",
      "l = list(d.compare(\"hello\",\"hexxo\"))\n",
      "print l"
     ],
     "language": "python",
     "metadata": {},
     "outputs": [
      {
       "output_type": "stream",
       "stream": "stdout",
       "text": [
        "['  h', '  e', '- l', '- l', '+ x', '+ x', '  o']\n"
       ]
      }
     ],
     "prompt_number": 8
    },
    {
     "cell_type": "code",
     "collapsed": false,
     "input": [],
     "language": "python",
     "metadata": {},
     "outputs": []
    }
   ],
   "metadata": {}
  }
 ]
}